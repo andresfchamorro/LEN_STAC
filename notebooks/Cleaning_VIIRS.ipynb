{
 "cells": [
  {
   "cell_type": "markdown",
   "metadata": {},
   "source": [
    "# Creating VIIRS composites from the LEN repository"
   ]
  },
  {
   "cell_type": "code",
   "execution_count": null,
   "metadata": {
    "scrolled": true
   },
   "outputs": [],
   "source": [
    "import pandas as pd\n",
    "import sys, os\n",
    "import geopandas as gpd\n",
    "\n",
    "from GOSTRocks.misc import tPrint\n",
    "\n",
    "sys.path.append(\"../src\")\n",
    "\n",
    "import len_tools \n",
    "from len_tools import Catalog\n",
    "from len_tools import VIIRS_cleaner\n",
    "\n",
    "%load_ext autoreload\n",
    "%autoreload 2"
   ]
  },
  {
   "cell_type": "code",
   "execution_count": null,
   "metadata": {},
   "outputs": [],
   "source": [
    "aws_bucket = 'globalnightlight'\n",
    "iso3 = 'AFG'\n",
    "start_day = \"2020-01-01\"\n",
    "end_day = \"2020-02-28\"\n",
    "out_folder = \"/home/wb411133/temp\"\n",
    "\n",
    "cat = Catalog()\n",
    "adm0 = gpd.read_file(gpd.datasets.get_path('naturalearth_lowres'))\n",
    "adm0 = adm0.loc[adm0.iso_a3 == iso3]"
   ]
  },
  {
   "cell_type": "code",
   "execution_count": null,
   "metadata": {},
   "outputs": [],
   "source": [
    "# Generate catalog of images for country and time period\n",
    "current_cat = cat.search_by_period(start_day, end_day)\n",
    "current_cat = current_cat.search_by_intersect(adm0, calc_overlap=True)"
   ]
  },
  {
   "cell_type": "code",
   "execution_count": null,
   "metadata": {
    "scrolled": true
   },
   "outputs": [],
   "source": [
    "# Throw away scenes with coverage lower than 25%\n",
    "sel_scenes = current_cat.scenes.loc[current_cat.scenes.overlap > 0.25]"
   ]
  },
  {
   "cell_type": "code",
   "execution_count": null,
   "metadata": {},
   "outputs": [],
   "source": [
    "cleaner = VIIRS_cleaner(aws_bucket, sel_scenes, adm0.unary_union)\n",
    "res = cleaner.clean_viirs_data()"
   ]
  },
  {
   "cell_type": "code",
   "execution_count": null,
   "metadata": {},
   "outputs": [],
   "source": [
    "cleaner.write_output(out_folder, iso3)"
   ]
  }
 ],
 "metadata": {
  "kernelspec": {
   "display_name": "Earth Engine",
   "language": "python",
   "name": "ee"
  },
  "language_info": {
   "codemirror_mode": {
    "name": "ipython",
    "version": 3
   },
   "file_extension": ".py",
   "mimetype": "text/x-python",
   "name": "python",
   "nbconvert_exporter": "python",
   "pygments_lexer": "ipython3",
   "version": "3.9.4"
  }
 },
 "nbformat": 4,
 "nbformat_minor": 5
}
