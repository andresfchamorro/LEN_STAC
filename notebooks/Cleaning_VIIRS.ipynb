{
 "cells": [
  {
   "cell_type": "markdown",
   "metadata": {},
   "source": [
    "# Creating VIIRS composites from the LEN repository"
   ]
  },
  {
   "cell_type": "code",
   "execution_count": 15,
   "metadata": {
    "scrolled": true
   },
   "outputs": [
    {
     "name": "stdout",
     "output_type": "stream",
     "text": [
      "The autoreload extension is already loaded. To reload it, use:\n",
      "  %reload_ext autoreload\n"
     ]
    }
   ],
   "source": [
    "import sys, os, datetime\n",
    "import geojson, imageio, rasterio\n",
    "\n",
    "import sys, os, inspect, logging, json\n",
    "import rasterio, boto3\n",
    "\n",
    "import numpy as np\n",
    "import xarray as xr\n",
    "import rioxarray as rxr\n",
    "import pandas as pd\n",
    "import geopandas as gpd\n",
    "import GOSTRocks.rasterMisc as rMisc\n",
    "\n",
    "from GOSTRocks.misc import tPrint\n",
    "from shapely.geometry import shape, Point\n",
    "\n",
    "sys.path.append(\"../src\")\n",
    "\n",
    "import len_tools \n",
    "from len_tools import Catalog\n",
    "from len_tools import VIIRS_cleaner\n",
    "\n",
    "%load_ext autoreload\n",
    "%autoreload 2"
   ]
  },
  {
   "cell_type": "code",
   "execution_count": 12,
   "metadata": {
    "scrolled": true
   },
   "outputs": [],
   "source": [
    "aws_bucket = 'globalnightlight'\n",
    "iso3 = 'UKR'\n",
    "out_folder = \"/home/wb411133/temp/UKR/\"\n",
    "if not os.path.exists(out_folder):\n",
    "    os.makedirs(out_folder)\n",
    "    \n",
    "shift_folder = os.path.join(out_folder, \"SHIFTED\")\n",
    "if not os.path.exists(shift_folder):\n",
    "    os.makedirs(shift_folder)\n",
    "\n",
    "adm0 = gpd.read_file(gpd.datasets.get_path('naturalearth_lowres'))\n",
    "adm0 = adm0.loc[adm0.iso_a3 == iso3]\n",
    "\n",
    "adm1 = gpd.read_file('/home/wb411133/data/Projects/UKR_Damage/Data/Admin/OCHA/ukr_admbnda_adm1_sspe_20220114.shp')"
   ]
  },
  {
   "cell_type": "code",
   "execution_count": 5,
   "metadata": {
    "scrolled": true
   },
   "outputs": [],
   "source": [
    "cat = Catalog()"
   ]
  },
  {
   "cell_type": "code",
   "execution_count": 6,
   "metadata": {
    "scrolled": true
   },
   "outputs": [
    {
     "name": "stderr",
     "output_type": "stream",
     "text": [
      "/home/wb411133/.conda/envs/ee/lib/python3.9/site-packages/geopandas/geodataframe.py:1322: SettingWithCopyWarning: \n",
      "A value is trying to be set on a copy of a slice from a DataFrame.\n",
      "Try using .loc[row_indexer,col_indexer] = value instead\n",
      "\n",
      "See the caveats in the documentation: https://pandas.pydata.org/pandas-docs/stable/user_guide/indexing.html#returning-a-view-versus-a-copy\n",
      "  super(GeoDataFrame, self).__setitem__(key, value)\n"
     ]
    }
   ],
   "source": [
    "start_day = \"2022-01-01\"\n",
    "end_day = \"2022-05-12\"\n",
    "# Generate catalog of images for country and time period\n",
    "current_cat = cat.search_by_period(start_day, end_day)\n",
    "current_cat = current_cat.search_by_intersect(adm0, calc_overlap=True)\n",
    "current_cat.scenes = current_cat.scenes.sort_values(['datetime'])"
   ]
  },
  {
   "cell_type": "code",
   "execution_count": 7,
   "metadata": {
    "scrolled": true
   },
   "outputs": [],
   "source": [
    "# Throw away scenes with coverage lower than 25%\n",
    "sel_scenes = current_cat.scenes.loc[current_cat.scenes.overlap > 0.25]"
   ]
  },
  {
   "cell_type": "code",
   "execution_count": null,
   "metadata": {
    "scrolled": true
   },
   "outputs": [],
   "source": [
    "cleaner = VIIRS_cleaner(aws_bucket, sel_scenes, adm0.unary_union.buffer(2))\n",
    "res = cleaner.clean_viirs_data(attach_numpy=True)"
   ]
  },
  {
   "cell_type": "code",
   "execution_count": null,
   "metadata": {},
   "outputs": [],
   "source": [
    "cleaner.write_output(out_folder, f'{iso3}_{start_day}_{end_day}')"
   ]
  },
  {
   "cell_type": "code",
   "execution_count": null,
   "metadata": {},
   "outputs": [],
   "source": [
    "\n",
    "cleaner.write_output_shift(res['scenes'], shift_folder)"
   ]
  },
  {
   "cell_type": "code",
   "execution_count": null,
   "metadata": {},
   "outputs": [],
   "source": [
    "scenes = cleaner.scenes.sort_values(['datetime'])\n",
    "scenes['datetime'] = pd.to_datetime(scenes['date'])\n",
    "min_date = scenes['datetime'].min()\n",
    "max_date = scenes['datetime'].max()\n",
    "\n",
    "cur_date = min_date\n",
    "\n",
    "while cur_date < max_date:\n",
    "    print(cur_date)\n",
    "    cur_date = cur_date + pd.DateOffset(days=7)\n"
   ]
  },
  {
   "cell_type": "markdown",
   "metadata": {},
   "source": [
    "# Calculate VIIRS quality"
   ]
  },
  {
   "cell_type": "code",
   "execution_count": null,
   "metadata": {
    "scrolled": true
   },
   "outputs": [],
   "source": [
    "# calculate the quality of the VIIRS data (vflag)\n",
    "quality_res = {}\n",
    "for idx, row in scenes.iterrows():\n",
    "    cur_quality = res['scenes'][idx][1]    \n",
    "    total_pixels = cur_quality.shape[0] * cur_quality.shape[0]\n",
    "    good_pixels = cur_quality.sum()\n",
    "    quality_res[datetime.datetime.strftime(row['date'], \"%Y-%m-%d\")] = (good_pixels/total_pixels)\n",
    "quality_res"
   ]
  },
  {
   "cell_type": "code",
   "execution_count": null,
   "metadata": {},
   "outputs": [],
   "source": [
    "pd.DataFrame(quality_res, index=[0]).transpose().plot(\n",
    "    figsize=(15,7), colormap='magma', legend=False, rot=45,\n",
    "    ylabel = \"Fraction of pixels that are good\"\n",
    "\n",
    "\n",
    ")"
   ]
  },
  {
   "cell_type": "markdown",
   "metadata": {},
   "source": [
    "# Map VIIRS "
   ]
  },
  {
   "cell_type": "code",
   "execution_count": null,
   "metadata": {
    "scrolled": true
   },
   "outputs": [],
   "source": [
    "# Generate animation of change in nighttime lights\n",
    "def map_viirs(cur_file, out_file='', class_bins = [-10,0.5,1,2,3,5,10,15,20,30,40,50], text_x=0, text_y=5, dpi=300):\n",
    "    ''' create map of viirs data\n",
    "    \n",
    "    INPUT\n",
    "        cur_file [string] - path to input geotif\n",
    "        [optional] out_file [string] - path to create output image\n",
    "        [optional] class_bins [list numbers] - breaks for applying colour ramp\n",
    "        [optional] text_x [int] - position on map to position year text (left to right)\n",
    "        [optional] text_y [int] - position on map to position year text (top to bottom)\n",
    "    '''\n",
    "    # extract the year from the file name\n",
    "    year = cur_file.split(\"_\")[2]\n",
    "    \n",
    "    # Open the VIIRS data and reclassify \n",
    "    inR = rasterio.open(cur_file)\n",
    "    inD = inR.read() \n",
    "    inD[np.isnan(inD)] = 0\n",
    "    inC = xr.apply_ufunc(np.digitize,inD,class_bins)\n",
    "\n",
    "    # Plot the figure, remove grid and ticks\n",
    "    fig = plt.figure()\n",
    "    ax = fig.add_subplot(111)\n",
    "    ax.grid(False)\n",
    "    ax.set_xticks([])\n",
    "    ax.set_yticks([])\n",
    "    \n",
    "    ### TODO: add the year to the map, may need to experiment with the location depend on geography\n",
    "    # ax.text(text_x, text_y, year, fontsize=40, color='white')\n",
    "\n",
    "    #plt.margins(0,0)\n",
    "    if out_file != '':\n",
    "        #plt.imsave(out_file, inC[0,:,:], cmap=plt.get_cmap('magma'))\n",
    "        plt.imshow(inC[0,:,:], cmap=plt.get_cmap('magma'))\n",
    "        fig.savefig(out_file, dpi=dpi, bbox_inches='tight', pad_inches=0)\n",
    "    else:\n",
    "        # https://matplotlib.org/stable/tutorials/colors/colormaps.html\n",
    "        plt.imshow(inC[0,:,:], cmap=plt.get_cmap('magma'))\n",
    "    \n",
    "maps_folder = os.path.join(out_folder, \"SHIFTED_MAPS\")\n",
    "\n",
    "for in_file in os.listdir(shift_folder):\n",
    "    if in_file.endswith(\"_rad.tif\"):\n",
    "        xx = map_viirs(os.path.join(shift_folder, in_file), os.path.join(maps_folder, in_file))        \n",
    "        tPrint(in_file)\n",
    "        "
   ]
  },
  {
   "cell_type": "code",
   "execution_count": null,
   "metadata": {},
   "outputs": [],
   "source": [
    "kwargs = {'duration':0.4}\n",
    "images = []\n",
    "all_tifs = [os.path.join(maps_folder, x) for x in os.listdir(maps_folder) if x.endswith(\".tif\")]\n",
    "all_tifs.sort()\n",
    "\n",
    "images.append(imageio.imread(all_tifs[0]))\n",
    "images.append(imageio.imread(all_tifs[0]))\n",
    "for filename in all_tifs:\n",
    "    images.append(imageio.imread(filename))\n",
    "#append the final image 3 times\n",
    "images.append(imageio.imread(all_tifs[-1]))\n",
    "images.append(imageio.imread(all_tifs[-1]))\n",
    "images.append(imageio.imread(all_tifs[-1]))\n",
    "\n",
    "\n",
    "imageio.mimsave(os.path.join(maps_folder, f'ANIMATION_{start_day}_{end_day}.gif'), images, **kwargs)"
   ]
  },
  {
   "cell_type": "markdown",
   "metadata": {},
   "source": [
    "# Generate difference images"
   ]
  },
  {
   "cell_type": "code",
   "execution_count": 76,
   "metadata": {},
   "outputs": [
    {
     "data": {
      "text/plain": [
       "['/home/wb411133/temp/UKR/SHIFTED/SHIFTED_20220101_20220129_rad.tif',\n",
       " '/home/wb411133/temp/UKR/SHIFTED/SHIFTED_20220108_20220205_rad.tif',\n",
       " '/home/wb411133/temp/UKR/SHIFTED/SHIFTED_20220115_20220212_rad.tif',\n",
       " '/home/wb411133/temp/UKR/SHIFTED/SHIFTED_20220122_20220219_rad.tif',\n",
       " '/home/wb411133/temp/UKR/SHIFTED/SHIFTED_20220129_20220226_rad.tif',\n",
       " '/home/wb411133/temp/UKR/SHIFTED/SHIFTED_20220205_20220305_rad.tif',\n",
       " '/home/wb411133/temp/UKR/SHIFTED/SHIFTED_20220212_20220312_rad.tif']"
      ]
     },
     "execution_count": 76,
     "metadata": {},
     "output_type": "execute_result"
    }
   ],
   "source": [
    "all_tifs = [os.path.join(shift_folder, x) for x in os.listdir(shift_folder) if x.endswith(\"rad.tif\")]\n",
    "all_tifs"
   ]
  },
  {
   "cell_type": "code",
   "execution_count": 77,
   "metadata": {},
   "outputs": [],
   "source": [
    "inR0 = rasterio.open(all_tifs[0])\n",
    "inR1 = rasterio.open(all_tifs[-1])\n",
    "\n",
    "inR0_data = inR0.read()\n",
    "inR1_data = inR1.read()\n",
    "\n",
    "diff_data = inR1_data - inR0_data\n",
    "per_change = diff_data/inR0_data\n",
    "\n",
    "out_file = os.path.join(out_folder, \"VIIRS_change.tif\")\n",
    "out_file_per = os.path.join(out_folder, \"VIIRS_change_per.tif\")\n",
    "\n",
    "with rasterio.open(out_file, 'w', **inR0.meta) as out_raster:\n",
    "    out_raster.write(diff_data)\n",
    "    \n",
    "with rasterio.open(out_file_per, 'w', **inR0.meta) as out_raster:\n",
    "    out_raster.write(per_change)"
   ]
  },
  {
   "cell_type": "markdown",
   "metadata": {},
   "source": [
    "# Summarize NTL in ADM1"
   ]
  },
  {
   "cell_type": "code",
   "execution_count": 27,
   "metadata": {},
   "outputs": [
    {
     "name": "stdout",
     "output_type": "stream",
     "text": [
      "09:19:03\t/home/wb411133/temp/UKR/SHIFTED/SHIFTED_20220101_20220129_rad.tif\n",
      "09:19:04\t/home/wb411133/temp/UKR/SHIFTED/SHIFTED_20220108_20220205_rad.tif\n",
      "09:19:05\t/home/wb411133/temp/UKR/SHIFTED/SHIFTED_20220115_20220212_rad.tif\n",
      "09:19:05\t/home/wb411133/temp/UKR/SHIFTED/SHIFTED_20220122_20220219_rad.tif\n",
      "09:19:06\t/home/wb411133/temp/UKR/SHIFTED/SHIFTED_20220129_20220226_rad.tif\n",
      "09:19:07\t/home/wb411133/temp/UKR/SHIFTED/SHIFTED_20220205_20220305_rad.tif\n",
      "09:19:08\t/home/wb411133/temp/UKR/SHIFTED/SHIFTED_20220212_20220312_rad.tif\n"
     ]
    }
   ],
   "source": [
    "ntl_res = adm1.loc[:,['ADM1_EN','ADM1_PCODE']]\n",
    "\n",
    "for cur_tif in all_tifs:\n",
    "    res = rMisc.zonalStats(adm1, cur_tif, minVal=1)\n",
    "    tif_date = cur_tif.split(\"_\")[-3]\n",
    "    res = pd.DataFrame(res, columns = ['SUM', 'MIN', 'MAX', 'MEAN'])\n",
    "    ntl_res[f'NTL_{tif_date}'] = res['SUM']\n",
    "    tPrint(cur_tif)"
   ]
  },
  {
   "cell_type": "code",
   "execution_count": null,
   "metadata": {
    "scrolled": false
   },
   "outputs": [],
   "source": [
    "ntl_res = ntl_res.sort_values('NTL_20220101', ascending=False)\n",
    "ntl_plot = ntl_res.drop(['ADM1_PCODE', 'ADM1_EN'], axis=1).transpose()\n",
    "ntl_plot.columns = adm1['ADM1_EN']\n",
    "def map_ntl(map_data):\n",
    "    pd.DataFrame(map_data).plot(\n",
    "        figsize=(20,10), colormap='copper', legend=True, rot=45, \n",
    "        ylabel=' Sum of Lights'\n",
    "    )\n",
    "\n",
    "map_ntl(ntl_plot.iloc[:,0:9])"
   ]
  },
  {
   "cell_type": "code",
   "execution_count": null,
   "metadata": {},
   "outputs": [],
   "source": [
    "map_ntl(ntl_plot.iloc[:,8:18])"
   ]
  },
  {
   "cell_type": "code",
   "execution_count": null,
   "metadata": {},
   "outputs": [],
   "source": [
    "map_ntl(ntl_plot.iloc[:,17:])"
   ]
  },
  {
   "cell_type": "markdown",
   "metadata": {},
   "source": [
    "# Summarize population in VIIRS images"
   ]
  },
  {
   "cell_type": "code",
   "execution_count": 10,
   "metadata": {},
   "outputs": [],
   "source": [
    "pop_layer = \"/home/wb411133/data/Projects/UKR_Damage/Data/ukr_ppp_2020_UNadj_constrained.tif\"\n",
    "pop_s = pop_layer.replace(\".tif\", \"_standardized.tif\")\n",
    "inPop = rasterio.open(pop_layer)"
   ]
  },
  {
   "cell_type": "code",
   "execution_count": 113,
   "metadata": {},
   "outputs": [],
   "source": [
    "all_tifs = [os.path.join(shift_folder, x) for x in os.listdir(shift_folder) if x.endswith(\"rad.tif\")]\n",
    "\n",
    "inR0 = rasterio.open(all_tifs[0])\n",
    "popD, pop_meta = rMisc.standardizeInputRasters(inPop, inR0)\n",
    "popD[popD<0] = 0\n",
    "class_bins = [-10,0.5,1,2,3,5,10,15,20,30,40,50]"
   ]
  },
  {
   "cell_type": "code",
   "execution_count": 114,
   "metadata": {},
   "outputs": [
    {
     "name": "stdout",
     "output_type": "stream",
     "text": [
      "16:06:59\tSHIFTED_20220101_20220129_rad.tif\n",
      "16:07:01\tSHIFTED_20220108_20220205_rad.tif\n",
      "16:07:02\tSHIFTED_20220115_20220212_rad.tif\n",
      "16:07:03\tSHIFTED_20220122_20220219_rad.tif\n",
      "16:07:05\tSHIFTED_20220129_20220226_rad.tif\n",
      "16:07:06\tSHIFTED_20220205_20220305_rad.tif\n",
      "16:07:08\tSHIFTED_20220212_20220312_rad.tif\n"
     ]
    }
   ],
   "source": [
    "cur_res = {}\n",
    "\n",
    "for ntl_file in all_tifs:\n",
    "    cur_date = ntl_file.split(\"_\")[-3]\n",
    "    inR = rasterio.open(ntl_file)\n",
    "    ntlD = inR.read()    \n",
    "    ntlC = xr.apply_ufunc(np.digitize, ntlD, class_bins)\n",
    "    class_res = []\n",
    "    for cur_class in np.unique(ntlC):\n",
    "        cur_ntl = ntlC == cur_class\n",
    "        cur_pop = popD * cur_ntl\n",
    "        class_res.append(cur_pop.sum())\n",
    "    cur_res[cur_date] = class_res\n",
    "    tPrint(os.path.basename(ntl_file))"
   ]
  },
  {
   "cell_type": "code",
   "execution_count": 115,
   "metadata": {},
   "outputs": [
    {
     "data": {
      "text/html": [
       "<div>\n",
       "<style scoped>\n",
       "    .dataframe tbody tr th:only-of-type {\n",
       "        vertical-align: middle;\n",
       "    }\n",
       "\n",
       "    .dataframe tbody tr th {\n",
       "        vertical-align: top;\n",
       "    }\n",
       "\n",
       "    .dataframe thead th {\n",
       "        text-align: right;\n",
       "    }\n",
       "</style>\n",
       "<table border=\"1\" class=\"dataframe\">\n",
       "  <thead>\n",
       "    <tr style=\"text-align: right;\">\n",
       "      <th></th>\n",
       "      <th>NTL &lt; 0</th>\n",
       "      <th>NTL 0</th>\n",
       "      <th>NTL 1</th>\n",
       "      <th>NTL 2</th>\n",
       "      <th>NTL 3</th>\n",
       "      <th>NTL 5</th>\n",
       "      <th>NTL 10</th>\n",
       "      <th>NTL 15</th>\n",
       "      <th>NTL 20</th>\n",
       "      <th>NTL 30</th>\n",
       "      <th>NTL 40</th>\n",
       "      <th>NTL 50</th>\n",
       "    </tr>\n",
       "  </thead>\n",
       "  <tbody>\n",
       "    <tr>\n",
       "      <th>20220108</th>\n",
       "      <td>2127852.0</td>\n",
       "      <td>2894147.50</td>\n",
       "      <td>5732622.0</td>\n",
       "      <td>4291361.0</td>\n",
       "      <td>6057928.5</td>\n",
       "      <td>9106668.0</td>\n",
       "      <td>4966217.5</td>\n",
       "      <td>3074046.00</td>\n",
       "      <td>3396489.500</td>\n",
       "      <td>1.926047e+06</td>\n",
       "      <td>1.032988e+06</td>\n",
       "      <td>10493926.0</td>\n",
       "    </tr>\n",
       "    <tr>\n",
       "      <th>20220115</th>\n",
       "      <td>2283977.0</td>\n",
       "      <td>3177652.25</td>\n",
       "      <td>5727116.5</td>\n",
       "      <td>4731560.0</td>\n",
       "      <td>6497697.0</td>\n",
       "      <td>9421074.0</td>\n",
       "      <td>5043765.0</td>\n",
       "      <td>3089975.50</td>\n",
       "      <td>3257165.000</td>\n",
       "      <td>1.953254e+06</td>\n",
       "      <td>8.910259e+05</td>\n",
       "      <td>9026049.0</td>\n",
       "    </tr>\n",
       "    <tr>\n",
       "      <th>20220122</th>\n",
       "      <td>2283977.0</td>\n",
       "      <td>3177652.25</td>\n",
       "      <td>5727116.5</td>\n",
       "      <td>4731560.0</td>\n",
       "      <td>6497697.0</td>\n",
       "      <td>9421074.0</td>\n",
       "      <td>5043765.0</td>\n",
       "      <td>3089975.50</td>\n",
       "      <td>3257165.000</td>\n",
       "      <td>1.953254e+06</td>\n",
       "      <td>8.910259e+05</td>\n",
       "      <td>9026049.0</td>\n",
       "    </tr>\n",
       "    <tr>\n",
       "      <th>20220129</th>\n",
       "      <td>2595271.0</td>\n",
       "      <td>4571153.00</td>\n",
       "      <td>7136595.5</td>\n",
       "      <td>5478991.5</td>\n",
       "      <td>7063116.0</td>\n",
       "      <td>8763159.0</td>\n",
       "      <td>4395427.0</td>\n",
       "      <td>2690661.50</td>\n",
       "      <td>2811446.500</td>\n",
       "      <td>1.338929e+06</td>\n",
       "      <td>7.036369e+05</td>\n",
       "      <td>7551903.0</td>\n",
       "    </tr>\n",
       "    <tr>\n",
       "      <th>20220205</th>\n",
       "      <td>6004106.5</td>\n",
       "      <td>10237463.00</td>\n",
       "      <td>9448226.0</td>\n",
       "      <td>5299602.5</td>\n",
       "      <td>5994895.0</td>\n",
       "      <td>6255842.5</td>\n",
       "      <td>2573672.0</td>\n",
       "      <td>1255848.75</td>\n",
       "      <td>1223596.875</td>\n",
       "      <td>5.070542e+05</td>\n",
       "      <td>1.652540e+05</td>\n",
       "      <td>6134720.0</td>\n",
       "    </tr>\n",
       "  </tbody>\n",
       "</table>\n",
       "</div>"
      ],
      "text/plain": [
       "            NTL < 0        NTL 0      NTL 1      NTL 2      NTL 3      NTL 5  \\\n",
       "20220108  2127852.0   2894147.50  5732622.0  4291361.0  6057928.5  9106668.0   \n",
       "20220115  2283977.0   3177652.25  5727116.5  4731560.0  6497697.0  9421074.0   \n",
       "20220122  2283977.0   3177652.25  5727116.5  4731560.0  6497697.0  9421074.0   \n",
       "20220129  2595271.0   4571153.00  7136595.5  5478991.5  7063116.0  8763159.0   \n",
       "20220205  6004106.5  10237463.00  9448226.0  5299602.5  5994895.0  6255842.5   \n",
       "\n",
       "             NTL 10      NTL 15       NTL 20        NTL 30        NTL 40  \\\n",
       "20220108  4966217.5  3074046.00  3396489.500  1.926047e+06  1.032988e+06   \n",
       "20220115  5043765.0  3089975.50  3257165.000  1.953254e+06  8.910259e+05   \n",
       "20220122  5043765.0  3089975.50  3257165.000  1.953254e+06  8.910259e+05   \n",
       "20220129  4395427.0  2690661.50  2811446.500  1.338929e+06  7.036369e+05   \n",
       "20220205  2573672.0  1255848.75  1223596.875  5.070542e+05  1.652540e+05   \n",
       "\n",
       "              NTL 50  \n",
       "20220108  10493926.0  \n",
       "20220115   9026049.0  \n",
       "20220122   9026049.0  \n",
       "20220129   7551903.0  \n",
       "20220205   6134720.0  "
      ]
     },
     "execution_count": 115,
     "metadata": {},
     "output_type": "execute_result"
    }
   ],
   "source": [
    "ntl_res = pd.DataFrame(pd.DataFrame(cur_res).transpose())\n",
    "ntl_res = ntl_res.drop(['20220101'])\n",
    "ntl_res.columns = [f'NTL {x}' for x in ['< 0',0,1,2,3,5,10,15,20,30,40,50]]\n",
    "ntl_res.head()"
   ]
  },
  {
   "cell_type": "code",
   "execution_count": 116,
   "metadata": {
    "scrolled": true
   },
   "outputs": [
    {
     "data": {
      "text/plain": [
       "<AxesSubplot:>"
      ]
     },
     "execution_count": 116,
     "metadata": {},
     "output_type": "execute_result"
    },
    {
     "data": {
      "image/png": "[encoded data removed]",
      "text/plain": [
       "<Figure size 720x504 with 1 Axes>"
      ]
     },
     "metadata": {},
     "output_type": "display_data"
    }
   ],
   "source": [
    "ntl_res.plot(kind='bar', stacked=True, figsize=(10,7), colormap='magma', legend=False)"
   ]
  },
  {
   "cell_type": "code",
   "execution_count": 117,
   "metadata": {},
   "outputs": [],
   "source": [
    "# Summarize population in nighttime list change\n",
    "ntl_change_per = os.path.join(out_folder, \"VIIRS_change_per.tif\")\n",
    "inR_ntlp = rasterio.open(ntl_change_per)\n",
    "percent_change = inR_ntlp.read()"
   ]
  },
  {
   "cell_type": "code",
   "execution_count": 118,
   "metadata": {},
   "outputs": [
    {
     "name": "stdout",
     "output_type": "stream",
     "text": [
      "16:07:09\t-0.1\n",
      "16:07:10\t-0.25\n",
      "16:07:11\t-0.5\n",
      "16:07:11\t-0.9\n"
     ]
    }
   ],
   "source": [
    "# Summarize change in nighttime lights by threshold om oblasts\n",
    "ntl_res = adm1.copy()\n",
    "ntl_res.drop(['geometry'], axis=1, inplace=True)\n",
    "#Calculate total population\n",
    "with rMisc.create_rasterio_inmemory(pop_meta, popD) as popR:\n",
    "    pop_res = rMisc.zonalStats(adm1, popR, minVal=0)\n",
    "    pop_res = pd.DataFrame(pop_res, columns=['SUM','MIN','MAX','MEAN'])\n",
    "    ntl_res['TotalPop'] = pop_res['SUM']\n",
    "\n",
    "for thresh in [-0.1, -0.25, -0.5, -0.9]:    \n",
    "    perD =  percent_change > thresh\n",
    "    decreasePop = popD * perD.astype(int)\n",
    "    with rMisc.create_rasterio_inmemory(changeR.profile, decreasePop) as decreasePopNTLR:\n",
    "        cur_res = rMisc.zonalStats(adm1, decreasePopNTLR)\n",
    "        cur_res = pd.DataFrame(cur_res, columns=['SUM','MIN','MAX','MEAN'])\n",
    "        ntl_res[f'PopD_{int(abs(thresh)*100)}'] = cur_res['SUM']\n",
    "        tPrint(thresh)"
   ]
  },
  {
   "cell_type": "code",
   "execution_count": 119,
   "metadata": {
    "scrolled": true
   },
   "outputs": [],
   "source": [
    "pd.DataFrame(ntl_res.sort_values('ADM1_EN')).to_csv(os.path.join(out_folder, \"NTL_change_results.csv\"))"
   ]
  },
  {
   "cell_type": "code",
   "execution_count": 64,
   "metadata": {},
   "outputs": [
    {
     "name": "stdout",
     "output_type": "stream",
     "text": [
      "46017992 people have seen light decrease, which is 84%\n"
     ]
    }
   ],
   "source": [
    "# What percent of the population has seen lights decrease\n",
    "decreaseD = changeD < 0\n",
    "decreasePop = decreaseD * popD\n",
    "print(f'{round(decreasePop.sum())} people have seen light decrease, which is {round(decreasePop.sum()/popD.sum() * 100)}%')"
   ]
  },
  {
   "cell_type": "code",
   "execution_count": 25,
   "metadata": {},
   "outputs": [
    {
     "name": "stdout",
     "output_type": "stream",
     "text": [
      "4180686 people have seen light decrease by -0.5, which is 8%\n"
     ]
    }
   ],
   "source": [
    "# What percent of the population has seen lights decrease by at least 50%\n",
    "thresh = -0.50\n",
    "percent_change = changeD/ntlT1D\n",
    "perD =  percent_change < thresh\n",
    "decreasePop = decreaseD * perD\n",
    "print(f'{round(decreasePop.sum())} people have seen light decrease by {thresh}, which is {round(decreasePop.sum()/popD.sum() * 100)}%')"
   ]
  },
  {
   "cell_type": "code",
   "execution_count": null,
   "metadata": {},
   "outputs": [],
   "source": [
    "popD.sum()"
   ]
  },
  {
   "cell_type": "markdown",
   "metadata": {},
   "source": [
    "# Debugging"
   ]
  },
  {
   "cell_type": "code",
   "execution_count": null,
   "metadata": {},
   "outputs": [],
   "source": []
  }
 ],
 "metadata": {
  "kernelspec": {
   "display_name": "Earth Engine",
   "language": "python",
   "name": "ee"
  },
  "language_info": {
   "codemirror_mode": {
    "name": "ipython",
    "version": 3
   },
   "file_extension": ".py",
   "mimetype": "text/x-python",
   "name": "python",
   "nbconvert_exporter": "python",
   "pygments_lexer": "ipython3",
   "version": "3.9.4"
  }
 },
 "nbformat": 4,
 "nbformat_minor": 5
}
