{
 "cells": [
  {
   "cell_type": "code",
   "execution_count": 1,
   "id": "d20973e9",
   "metadata": {},
   "outputs": [],
   "source": [
    "import pandas as pd\n",
    "import sys, os\n",
    "import geopandas as gpd\n",
    "# from pandas import Timestamp\n",
    "# from shapely.geometry import Point"
   ]
  },
  {
   "cell_type": "code",
   "execution_count": 2,
   "id": "06af5d9b",
   "metadata": {},
   "outputs": [],
   "source": [
    "sys.path.append(os.path.join(os.path.expanduser(\"~\"), \"Repos\", \"LEN_STAC\", \"src\"))"
   ]
  },
  {
   "cell_type": "code",
   "execution_count": 3,
   "id": "bdb460b0",
   "metadata": {},
   "outputs": [],
   "source": [
    "from len_tools import Catalog"
   ]
  },
  {
   "cell_type": "code",
   "execution_count": 4,
   "id": "535ae70f",
   "metadata": {},
   "outputs": [],
   "source": [
    "%load_ext autoreload\n",
    "%autoreload 2"
   ]
  },
  {
   "cell_type": "code",
   "execution_count": 5,
   "id": "6fd3aaf8",
   "metadata": {},
   "outputs": [
    {
     "name": "stdout",
     "output_type": "stream",
     "text": [
      "Wall time: 31.4 s\n"
     ]
    }
   ],
   "source": [
    "%%time\n",
    "cat = Catalog()"
   ]
  },
  {
   "cell_type": "code",
   "execution_count": 6,
   "id": "3c2e724c",
   "metadata": {
    "scrolled": true
   },
   "outputs": [
    {
     "data": {
      "text/html": [
       "<div>\n",
       "<style scoped>\n",
       "    .dataframe tbody tr th:only-of-type {\n",
       "        vertical-align: middle;\n",
       "    }\n",
       "\n",
       "    .dataframe tbody tr th {\n",
       "        vertical-align: top;\n",
       "    }\n",
       "\n",
       "    .dataframe thead th {\n",
       "        text-align: right;\n",
       "    }\n",
       "</style>\n",
       "<table border=\"1\" class=\"dataframe\">\n",
       "  <thead>\n",
       "    <tr style=\"text-align: right;\">\n",
       "      <th></th>\n",
       "      <th>idx</th>\n",
       "      <th>col_id</th>\n",
       "      <th>filename</th>\n",
       "      <th>item_id</th>\n",
       "      <th>href</th>\n",
       "      <th>bbox</th>\n",
       "      <th>geometry</th>\n",
       "      <th>date</th>\n",
       "      <th>datetime</th>\n",
       "      <th>ym</th>\n",
       "      <th>minx</th>\n",
       "      <th>miny</th>\n",
       "      <th>maxx</th>\n",
       "      <th>maxy</th>\n",
       "    </tr>\n",
       "  </thead>\n",
       "  <tbody>\n",
       "    <tr>\n",
       "      <th>0</th>\n",
       "      <td>0</td>\n",
       "      <td>VIIRS_DNB_rade9_201204</td>\n",
       "      <td>https://globalnightlight.s3.amazonaws.com/201204/SVDNB_npp_d20120401_t0009017_e0014421_b02208_c20120428182646408538_devl_pop.rade9.co.json</td>\n",
       "      <td>SVDNB_npp_d20120401_t0009017_e0014421_b02208_c20120428182646408538_devl_pop.rade9.co</td>\n",
       "      <td>https://globalnightlight.s3.amazonaws.com/201204/SVDNB_npp_d20120401_t0009017_e0014421_b02208_c20120428182646408538_devl_pop.rade9.co.tif</td>\n",
       "      <td>[-5.00208333335, 61.00208322135, 119.99791766665, 75.00208333335]</td>\n",
       "      <td>POLYGON ((-5.002083 61.002083, -5.002083 75.002083, 119.997918 75.002083, 119.997918 61.002083, -5.002083 61.002083))</td>\n",
       "      <td>2012-04-01</td>\n",
       "      <td>2012-04-01 00:09:01+00:00</td>\n",
       "      <td>2012-04</td>\n",
       "      <td>-5.002083</td>\n",
       "      <td>61.002083</td>\n",
       "      <td>119.997918</td>\n",
       "      <td>75.002083</td>\n",
       "    </tr>\n",
       "    <tr>\n",
       "      <th>1</th>\n",
       "      <td>1</td>\n",
       "      <td>VIIRS_DNB_rade9_201204</td>\n",
       "      <td>https://globalnightlight.s3.amazonaws.com/201204/SVDNB_npp_d20120401_t0014433_e0020237_b02208_c20120428182646409440_devl_pop.rade9.co.json</td>\n",
       "      <td>SVDNB_npp_d20120401_t0014433_e0020237_b02208_c20120428182646409440_devl_pop.rade9.co</td>\n",
       "      <td>https://globalnightlight.s3.amazonaws.com/201204/SVDNB_npp_d20120401_t0014433_e0020237_b02208_c20120428182646409440_devl_pop.rade9.co.tif</td>\n",
       "      <td>[-2.002083335, 46.002061735, 69.99797426500001, 73.002083335]</td>\n",
       "      <td>POLYGON ((-2.002083 46.002062, -2.002083 73.002083, 69.997974 73.002083, 69.997974 46.002062, -2.002083 46.002062))</td>\n",
       "      <td>2012-04-01</td>\n",
       "      <td>2012-04-01 00:14:43+00:00</td>\n",
       "      <td>2012-04</td>\n",
       "      <td>-2.002083</td>\n",
       "      <td>46.002062</td>\n",
       "      <td>69.997974</td>\n",
       "      <td>73.002083</td>\n",
       "    </tr>\n",
       "    <tr>\n",
       "      <th>2</th>\n",
       "      <td>2</td>\n",
       "      <td>VIIRS_DNB_rade9_201204</td>\n",
       "      <td>https://globalnightlight.s3.amazonaws.com/201204/SVDNB_npp_d20120401_t0020249_e0026035_b02208_c20120428182646410345_devl_pop.rade9.co.json</td>\n",
       "      <td>SVDNB_npp_d20120401_t0020249_e0026035_b02208_c20120428182646410345_devl_pop.rade9.co</td>\n",
       "      <td>https://globalnightlight.s3.amazonaws.com/201204/SVDNB_npp_d20120401_t0020249_e0026035_b02208_c20120428182646410345_devl_pop.rade9.co.tif</td>\n",
       "      <td>[2.997916665, 28.002062535000004, 46.997951865, 54.002083335]</td>\n",
       "      <td>POLYGON ((2.997917 28.002063, 2.997917 54.002083, 46.997952 54.002083, 46.997952 28.002063, 2.997917 28.002063))</td>\n",
       "      <td>2012-04-01</td>\n",
       "      <td>2012-04-01 00:20:24+00:00</td>\n",
       "      <td>2012-04</td>\n",
       "      <td>2.997917</td>\n",
       "      <td>28.002063</td>\n",
       "      <td>46.997952</td>\n",
       "      <td>54.002083</td>\n",
       "    </tr>\n",
       "    <tr>\n",
       "      <th>3</th>\n",
       "      <td>3</td>\n",
       "      <td>VIIRS_DNB_rade9_201204</td>\n",
       "      <td>https://globalnightlight.s3.amazonaws.com/201204/SVDNB_npp_d20120401_t0026047_e0031451_b02208_c20120428182646411260_devl_pop.rade9.co.json</td>\n",
       "      <td>SVDNB_npp_d20120401_t0026047_e0031451_b02208_c20120428182646411260_devl_pop.rade9.co</td>\n",
       "      <td>https://globalnightlight.s3.amazonaws.com/201204/SVDNB_npp_d20120401_t0026047_e0031451_b02208_c20120428182646411260_devl_pop.rade9.co.tif</td>\n",
       "      <td>[-0.002083335, 9.002063335000003, 35.997945465, 34.002083335]</td>\n",
       "      <td>POLYGON ((-0.002083 9.002063, -0.002083 34.002083, 35.997945 34.002083, 35.997945 9.002063, -0.002083 9.002063))</td>\n",
       "      <td>2012-04-01</td>\n",
       "      <td>2012-04-01 00:26:04+00:00</td>\n",
       "      <td>2012-04</td>\n",
       "      <td>-0.002083</td>\n",
       "      <td>9.002063</td>\n",
       "      <td>35.997945</td>\n",
       "      <td>34.002083</td>\n",
       "    </tr>\n",
       "    <tr>\n",
       "      <th>4</th>\n",
       "      <td>4</td>\n",
       "      <td>VIIRS_DNB_rade9_201204</td>\n",
       "      <td>https://globalnightlight.s3.amazonaws.com/201204/SVDNB_npp_d20120401_t0031464_e0037268_b02208_c20120428182646412163_devl_pop.rade9.co.json</td>\n",
       "      <td>SVDNB_npp_d20120401_t0031464_e0037268_b02208_c20120428182646412163_devl_pop.rade9.co</td>\n",
       "      <td>https://globalnightlight.s3.amazonaws.com/201204/SVDNB_npp_d20120401_t0031464_e0037268_b02208_c20120428182646412163_devl_pop.rade9.co.tif</td>\n",
       "      <td>[-4.002083335, -9.997935865, 28.997943064999994, 14.002083335]</td>\n",
       "      <td>POLYGON ((-4.002083 -9.997935999999999, -4.002083 14.002083, 28.997943 14.002083, 28.997943 -9.997935999999999, -4.002083 -9.997935999999999))</td>\n",
       "      <td>2012-04-01</td>\n",
       "      <td>2012-04-01 00:31:46+00:00</td>\n",
       "      <td>2012-04</td>\n",
       "      <td>-4.002083</td>\n",
       "      <td>-9.997936</td>\n",
       "      <td>28.997943</td>\n",
       "      <td>14.002083</td>\n",
       "    </tr>\n",
       "  </tbody>\n",
       "</table>\n",
       "</div>"
      ],
      "text/plain": [
       "   idx                  col_id  \\\n",
       "0    0  VIIRS_DNB_rade9_201204   \n",
       "1    1  VIIRS_DNB_rade9_201204   \n",
       "2    2  VIIRS_DNB_rade9_201204   \n",
       "3    3  VIIRS_DNB_rade9_201204   \n",
       "4    4  VIIRS_DNB_rade9_201204   \n",
       "\n",
       "                                                                                                                                     filename  \\\n",
       "0  https://globalnightlight.s3.amazonaws.com/201204/SVDNB_npp_d20120401_t0009017_e0014421_b02208_c20120428182646408538_devl_pop.rade9.co.json   \n",
       "1  https://globalnightlight.s3.amazonaws.com/201204/SVDNB_npp_d20120401_t0014433_e0020237_b02208_c20120428182646409440_devl_pop.rade9.co.json   \n",
       "2  https://globalnightlight.s3.amazonaws.com/201204/SVDNB_npp_d20120401_t0020249_e0026035_b02208_c20120428182646410345_devl_pop.rade9.co.json   \n",
       "3  https://globalnightlight.s3.amazonaws.com/201204/SVDNB_npp_d20120401_t0026047_e0031451_b02208_c20120428182646411260_devl_pop.rade9.co.json   \n",
       "4  https://globalnightlight.s3.amazonaws.com/201204/SVDNB_npp_d20120401_t0031464_e0037268_b02208_c20120428182646412163_devl_pop.rade9.co.json   \n",
       "\n",
       "                                                                                item_id  \\\n",
       "0  SVDNB_npp_d20120401_t0009017_e0014421_b02208_c20120428182646408538_devl_pop.rade9.co   \n",
       "1  SVDNB_npp_d20120401_t0014433_e0020237_b02208_c20120428182646409440_devl_pop.rade9.co   \n",
       "2  SVDNB_npp_d20120401_t0020249_e0026035_b02208_c20120428182646410345_devl_pop.rade9.co   \n",
       "3  SVDNB_npp_d20120401_t0026047_e0031451_b02208_c20120428182646411260_devl_pop.rade9.co   \n",
       "4  SVDNB_npp_d20120401_t0031464_e0037268_b02208_c20120428182646412163_devl_pop.rade9.co   \n",
       "\n",
       "                                                                                                                                        href  \\\n",
       "0  https://globalnightlight.s3.amazonaws.com/201204/SVDNB_npp_d20120401_t0009017_e0014421_b02208_c20120428182646408538_devl_pop.rade9.co.tif   \n",
       "1  https://globalnightlight.s3.amazonaws.com/201204/SVDNB_npp_d20120401_t0014433_e0020237_b02208_c20120428182646409440_devl_pop.rade9.co.tif   \n",
       "2  https://globalnightlight.s3.amazonaws.com/201204/SVDNB_npp_d20120401_t0020249_e0026035_b02208_c20120428182646410345_devl_pop.rade9.co.tif   \n",
       "3  https://globalnightlight.s3.amazonaws.com/201204/SVDNB_npp_d20120401_t0026047_e0031451_b02208_c20120428182646411260_devl_pop.rade9.co.tif   \n",
       "4  https://globalnightlight.s3.amazonaws.com/201204/SVDNB_npp_d20120401_t0031464_e0037268_b02208_c20120428182646412163_devl_pop.rade9.co.tif   \n",
       "\n",
       "                                                                bbox  \\\n",
       "0  [-5.00208333335, 61.00208322135, 119.99791766665, 75.00208333335]   \n",
       "1      [-2.002083335, 46.002061735, 69.99797426500001, 73.002083335]   \n",
       "2      [2.997916665, 28.002062535000004, 46.997951865, 54.002083335]   \n",
       "3      [-0.002083335, 9.002063335000003, 35.997945465, 34.002083335]   \n",
       "4     [-4.002083335, -9.997935865, 28.997943064999994, 14.002083335]   \n",
       "\n",
       "                                                                                                                                         geometry  \\\n",
       "0                           POLYGON ((-5.002083 61.002083, -5.002083 75.002083, 119.997918 75.002083, 119.997918 61.002083, -5.002083 61.002083))   \n",
       "1                             POLYGON ((-2.002083 46.002062, -2.002083 73.002083, 69.997974 73.002083, 69.997974 46.002062, -2.002083 46.002062))   \n",
       "2                                POLYGON ((2.997917 28.002063, 2.997917 54.002083, 46.997952 54.002083, 46.997952 28.002063, 2.997917 28.002063))   \n",
       "3                                POLYGON ((-0.002083 9.002063, -0.002083 34.002083, 35.997945 34.002083, 35.997945 9.002063, -0.002083 9.002063))   \n",
       "4  POLYGON ((-4.002083 -9.997935999999999, -4.002083 14.002083, 28.997943 14.002083, 28.997943 -9.997935999999999, -4.002083 -9.997935999999999))   \n",
       "\n",
       "        date                  datetime       ym      minx       miny  \\\n",
       "0 2012-04-01 2012-04-01 00:09:01+00:00  2012-04 -5.002083  61.002083   \n",
       "1 2012-04-01 2012-04-01 00:14:43+00:00  2012-04 -2.002083  46.002062   \n",
       "2 2012-04-01 2012-04-01 00:20:24+00:00  2012-04  2.997917  28.002063   \n",
       "3 2012-04-01 2012-04-01 00:26:04+00:00  2012-04 -0.002083   9.002063   \n",
       "4 2012-04-01 2012-04-01 00:31:46+00:00  2012-04 -4.002083  -9.997936   \n",
       "\n",
       "         maxx       maxy  \n",
       "0  119.997918  75.002083  \n",
       "1   69.997974  73.002083  \n",
       "2   46.997952  54.002083  \n",
       "3   35.997945  34.002083  \n",
       "4   28.997943  14.002083  "
      ]
     },
     "execution_count": 6,
     "metadata": {},
     "output_type": "execute_result"
    }
   ],
   "source": [
    "cat.scenes.head()"
   ]
  },
  {
   "cell_type": "code",
   "execution_count": 7,
   "id": "fce0201d",
   "metadata": {},
   "outputs": [
    {
     "data": {
      "text/plain": [
       "396262"
      ]
     },
     "execution_count": 7,
     "metadata": {},
     "output_type": "execute_result"
    }
   ],
   "source": [
    "len(cat)"
   ]
  },
  {
   "cell_type": "code",
   "execution_count": 8,
   "id": "e50acaef",
   "metadata": {},
   "outputs": [
    {
     "name": "stdout",
     "output_type": "stream",
     "text": [
      "Catalog with 396262 scenes\n"
     ]
    }
   ],
   "source": [
    "print(cat)"
   ]
  },
  {
   "cell_type": "code",
   "execution_count": 9,
   "id": "2d293809",
   "metadata": {
    "scrolled": true
   },
   "outputs": [
    {
     "data": {
      "text/plain": [
       "array(['2012-04', '2012-05', '2012-06', '2012-07', '2012-08', '2012-09',\n",
       "       '2012-10', '2012-11', '2012-12', '2013-01', '2013-02', '2013-03',\n",
       "       '2013-04', '2013-05', '2013-06', '2013-07', '2013-08', '2013-09',\n",
       "       '2013-10', '2013-11', '2013-12', '2014-01', '2014-02', '2014-03',\n",
       "       '2014-04', '2014-05', '2014-06', '2014-07', '2014-08', '2014-09',\n",
       "       '2014-10', '2014-11', '2014-12', '2015-01', '2015-02', '2015-03',\n",
       "       '2015-04', '2015-05', '2015-06', '2015-07', '2015-08', '2015-09',\n",
       "       '2015-10', '2015-11', '2015-12', '2016-01', '2016-02', '2016-03',\n",
       "       '2016-04', '2016-05', '2016-06', '2016-07', '2016-08', '2016-09',\n",
       "       '2016-10', '2016-11', '2016-12', '2017-01', '2017-02', '2017-03',\n",
       "       '2017-04', '2017-05', '2017-06', '2017-07', '2017-08', '2017-09',\n",
       "       '2017-10', '2017-11', '2017-12', '2018-01', '2018-02', '2018-03',\n",
       "       '2018-04', '2018-05', '2018-06', '2018-07', '2018-08', '2018-09',\n",
       "       '2018-10', '2018-11', '2018-12', '2019-01', '2019-02', '2019-03',\n",
       "       '2019-04', '2019-05', '2019-06', '2019-07', '2019-08', '2019-09',\n",
       "       '2019-10', '2019-11', '2019-12', '2020-01', '2020-02', '2020-03',\n",
       "       '2020-04', '2020-05', '2020-06', '2020-07', '2020-08', '2020-09',\n",
       "       '2020-10', '2020-11', '2020-12'], dtype=object)"
      ]
     },
     "execution_count": 9,
     "metadata": {},
     "output_type": "execute_result"
    }
   ],
   "source": [
    "cat.scenes.ym.unique()"
   ]
  },
  {
   "cell_type": "code",
   "execution_count": 10,
   "id": "83dd004e",
   "metadata": {},
   "outputs": [],
   "source": [
    "cat_time_filter = cat.search_by_year_month(2020, 5)\n",
    "# res = cat.search_by_day(\"2020-05-04\")"
   ]
  },
  {
   "cell_type": "code",
   "execution_count": 11,
   "id": "dcb8f0c6",
   "metadata": {},
   "outputs": [
    {
     "name": "stdout",
     "output_type": "stream",
     "text": [
      "Catalog with 3666 scenes\n"
     ]
    }
   ],
   "source": [
    "print(cat_time_filter)"
   ]
  },
  {
   "cell_type": "code",
   "execution_count": 12,
   "id": "37ac1aee",
   "metadata": {},
   "outputs": [],
   "source": [
    "adm0 = gpd.read_file(gpd.datasets.get_path('naturalearth_lowres'))"
   ]
  },
  {
   "cell_type": "code",
   "execution_count": 13,
   "id": "1955ec13",
   "metadata": {},
   "outputs": [],
   "source": [
    "adm0 = adm0.loc[adm0.iso_a3 == \"NIC\"]"
   ]
  },
  {
   "cell_type": "code",
   "execution_count": 14,
   "id": "385c6377",
   "metadata": {},
   "outputs": [
    {
     "data": {
      "text/plain": [
       "<AxesSubplot:>"
      ]
     },
     "execution_count": 14,
     "metadata": {},
     "output_type": "execute_result"
    },
    {
     "data": {
      "image/png": "[encoded data removed]",
      "text/plain": [
       "<Figure size 432x288 with 1 Axes>"
      ]
     },
     "metadata": {
      "needs_background": "light"
     },
     "output_type": "display_data"
    }
   ],
   "source": [
    "adm0.plot()"
   ]
  },
  {
   "cell_type": "code",
   "execution_count": 15,
   "id": "39525346",
   "metadata": {},
   "outputs": [
    {
     "name": "stderr",
     "output_type": "stream",
     "text": [
      "C:\\Users\\gostm\\AppData\\Local\\Temp/ipykernel_2896/3455296129.py:1: UserWarning: Geometry is in a geographic CRS. Results from 'centroid' are likely incorrect. Use 'GeoSeries.to_crs()' to re-project geometries to a projected CRS before this operation.\n",
      "\n",
      "  point = adm0.centroid.iloc[0]\n"
     ]
    }
   ],
   "source": [
    "point = adm0.centroid.iloc[0]"
   ]
  },
  {
   "cell_type": "code",
   "execution_count": 16,
   "id": "e729baca",
   "metadata": {},
   "outputs": [
    {
     "name": "stdout",
     "output_type": "stream",
     "text": [
      "Wall time: 38 ms\n"
     ]
    }
   ],
   "source": [
    "%%time\n",
    "# cat_aoi_filter = cat_time_filter.search_by_intersect(point)\n",
    "cat_aoi_filter = cat_time_filter.search_by_intersect(adm0)"
   ]
  },
  {
   "cell_type": "code",
   "execution_count": 17,
   "id": "dc1616be",
   "metadata": {},
   "outputs": [
    {
     "name": "stdout",
     "output_type": "stream",
     "text": [
      "Catalog with 70 scenes\n"
     ]
    }
   ],
   "source": [
    "print(cat_aoi_filter)"
   ]
  },
  {
   "cell_type": "code",
   "execution_count": 18,
   "id": "a444a943",
   "metadata": {},
   "outputs": [
    {
     "data": {
      "text/html": [
       "<div>\n",
       "<style scoped>\n",
       "    .dataframe tbody tr th:only-of-type {\n",
       "        vertical-align: middle;\n",
       "    }\n",
       "\n",
       "    .dataframe tbody tr th {\n",
       "        vertical-align: top;\n",
       "    }\n",
       "\n",
       "    .dataframe thead th {\n",
       "        text-align: right;\n",
       "    }\n",
       "</style>\n",
       "<table border=\"1\" class=\"dataframe\">\n",
       "  <thead>\n",
       "    <tr style=\"text-align: right;\">\n",
       "      <th></th>\n",
       "      <th>idx</th>\n",
       "      <th>col_id</th>\n",
       "      <th>filename</th>\n",
       "      <th>item_id</th>\n",
       "      <th>href</th>\n",
       "      <th>bbox</th>\n",
       "      <th>geometry</th>\n",
       "      <th>date</th>\n",
       "      <th>datetime</th>\n",
       "      <th>ym</th>\n",
       "      <th>minx</th>\n",
       "      <th>miny</th>\n",
       "      <th>maxx</th>\n",
       "      <th>maxy</th>\n",
       "    </tr>\n",
       "  </thead>\n",
       "  <tbody>\n",
       "    <tr>\n",
       "      <th>365984</th>\n",
       "      <td>29</td>\n",
       "      <td>VIIRS_DNB_rade9_npp_202005</td>\n",
       "      <td>https://globalnightlight.s3.amazonaws.com/npp_202005/SVDNB_npp_d20200501_t0624008_e0629412_b44093_c20200501102942807493_noac_ops.rade9.co.json</td>\n",
       "      <td>SVDNB_npp_d20200501_t0624008_e0629412_b44093_c20200501102942807493_noac_ops.rade9.co</td>\n",
       "      <td>https://globalnightlight.s3.amazonaws.com/npp_202005/SVDNB_npp_d20200501_t0624008_e0629412_b44093_c20200501102942807493_noac_ops.rade9.co.tif</td>\n",
       "      <td>[-90.002083335, 1.002063334999999, -56.002056135, 26.002083335]</td>\n",
       "      <td>POLYGON ((-90.00208 1.00206, -90.00208 26.00208, -56.00206 26.00208, -56.00206 1.00206, -90.00208 1.00206))</td>\n",
       "      <td>2020-05-01</td>\n",
       "      <td>2020-05-01 06:24:00+00:00</td>\n",
       "      <td>2020-05</td>\n",
       "      <td>-90.002083</td>\n",
       "      <td>1.002063</td>\n",
       "      <td>-56.002056</td>\n",
       "      <td>26.002083</td>\n",
       "    </tr>\n",
       "    <tr>\n",
       "      <th>365993</th>\n",
       "      <td>38</td>\n",
       "      <td>VIIRS_DNB_rade9_npp_202005</td>\n",
       "      <td>https://globalnightlight.s3.amazonaws.com/npp_202005/SVDNB_npp_d20200501_t0806264_e0812068_b44094_c20200501121207969852_noac_ops.rade9.co.json</td>\n",
       "      <td>SVDNB_npp_d20200501_t0806264_e0812068_b44094_c20200501121207969852_noac_ops.rade9.co</td>\n",
       "      <td>https://globalnightlight.s3.amazonaws.com/npp_202005/SVDNB_npp_d20200501_t0806264_e0812068_b44094_c20200501121207969852_noac_ops.rade9.co.tif</td>\n",
       "      <td>[-116.002083335, -1.997936665000001, -82.002056135, 23.002083335]</td>\n",
       "      <td>POLYGON ((-116.00208 -1.99794, -116.00208 23.00208, -82.00206 23.00208, -82.00206 -1.99794, -116.00208 -1.99794))</td>\n",
       "      <td>2020-05-01</td>\n",
       "      <td>2020-05-01 08:06:26+00:00</td>\n",
       "      <td>2020-05</td>\n",
       "      <td>-116.002083</td>\n",
       "      <td>-1.997937</td>\n",
       "      <td>-82.002056</td>\n",
       "      <td>23.002083</td>\n",
       "    </tr>\n",
       "    <tr>\n",
       "      <th>366104</th>\n",
       "      <td>149</td>\n",
       "      <td>VIIRS_DNB_rade9_npp_202005</td>\n",
       "      <td>https://globalnightlight.s3.amazonaws.com/npp_202005/SVDNB_npp_d20200502_t0606305_e0612109_b44107_c20200502101212281822_noac_ops.rade9.co.json</td>\n",
       "      <td>SVDNB_npp_d20200502_t0606305_e0612109_b44107_c20200502101212281822_noac_ops.rade9.co</td>\n",
       "      <td>https://globalnightlight.s3.amazonaws.com/npp_202005/SVDNB_npp_d20200502_t0606305_e0612109_b44107_c20200502101212281822_noac_ops.rade9.co.tif</td>\n",
       "      <td>[-86.002083335, -3.997936665000001, -53.002056935, 21.002083335]</td>\n",
       "      <td>POLYGON ((-86.00208 -3.99794, -86.00208 21.00208, -53.00206 21.00208, -53.00206 -3.99794, -86.00208 -3.99794))</td>\n",
       "      <td>2020-05-02</td>\n",
       "      <td>2020-05-02 06:06:30+00:00</td>\n",
       "      <td>2020-05</td>\n",
       "      <td>-86.002083</td>\n",
       "      <td>-3.997937</td>\n",
       "      <td>-53.002057</td>\n",
       "      <td>21.002083</td>\n",
       "    </tr>\n",
       "    <tr>\n",
       "      <th>366112</th>\n",
       "      <td>157</td>\n",
       "      <td>VIIRS_DNB_rade9_npp_202005</td>\n",
       "      <td>https://globalnightlight.s3.amazonaws.com/npp_202005/SVDNB_npp_d20200502_t0743145_e0748549_b44108_c20200502114856562241_noac_ops.rade9.co.json</td>\n",
       "      <td>SVDNB_npp_d20200502_t0743145_e0748549_b44108_c20200502114856562241_noac_ops.rade9.co</td>\n",
       "      <td>https://globalnightlight.s3.amazonaws.com/npp_202005/SVDNB_npp_d20200502_t0743145_e0748549_b44108_c20200502114856562241_noac_ops.rade9.co.tif</td>\n",
       "      <td>[-108.002083335, 12.002063335000003, -72.00205453499998, 37.002083335]</td>\n",
       "      <td>POLYGON ((-108.00208 12.00206, -108.00208 37.00208, -72.00205 37.00208, -72.00205 12.00206, -108.00208 12.00206))</td>\n",
       "      <td>2020-05-02</td>\n",
       "      <td>2020-05-02 07:43:14+00:00</td>\n",
       "      <td>2020-05</td>\n",
       "      <td>-108.002083</td>\n",
       "      <td>12.002063</td>\n",
       "      <td>-72.002055</td>\n",
       "      <td>37.002083</td>\n",
       "    </tr>\n",
       "    <tr>\n",
       "      <th>366113</th>\n",
       "      <td>158</td>\n",
       "      <td>VIIRS_DNB_rade9_npp_202005</td>\n",
       "      <td>https://globalnightlight.s3.amazonaws.com/npp_202005/SVDNB_npp_d20200502_t0748561_e0754365_b44108_c20200502115437436693_noac_ops.rade9.co.json</td>\n",
       "      <td>SVDNB_npp_d20200502_t0748561_e0754365_b44108_c20200502115437436693_noac_ops.rade9.co</td>\n",
       "      <td>https://globalnightlight.s3.amazonaws.com/npp_202005/SVDNB_npp_d20200502_t0748561_e0754365_b44108_c20200502115437436693_noac_ops.rade9.co.tif</td>\n",
       "      <td>[-112.002083335, -6.997936665000001, -79.002056935, 18.002083335]</td>\n",
       "      <td>POLYGON ((-112.00208 -6.99794, -112.00208 18.00208, -79.00206 18.00208, -79.00206 -6.99794, -112.00208 -6.99794))</td>\n",
       "      <td>2020-05-02</td>\n",
       "      <td>2020-05-02 07:48:56+00:00</td>\n",
       "      <td>2020-05</td>\n",
       "      <td>-112.002083</td>\n",
       "      <td>-6.997937</td>\n",
       "      <td>-79.002057</td>\n",
       "      <td>18.002083</td>\n",
       "    </tr>\n",
       "  </tbody>\n",
       "</table>\n",
       "</div>"
      ],
      "text/plain": [
       "        idx                      col_id  \\\n",
       "365984   29  VIIRS_DNB_rade9_npp_202005   \n",
       "365993   38  VIIRS_DNB_rade9_npp_202005   \n",
       "366104  149  VIIRS_DNB_rade9_npp_202005   \n",
       "366112  157  VIIRS_DNB_rade9_npp_202005   \n",
       "366113  158  VIIRS_DNB_rade9_npp_202005   \n",
       "\n",
       "                                                                                                                                              filename  \\\n",
       "365984  https://globalnightlight.s3.amazonaws.com/npp_202005/SVDNB_npp_d20200501_t0624008_e0629412_b44093_c20200501102942807493_noac_ops.rade9.co.json   \n",
       "365993  https://globalnightlight.s3.amazonaws.com/npp_202005/SVDNB_npp_d20200501_t0806264_e0812068_b44094_c20200501121207969852_noac_ops.rade9.co.json   \n",
       "366104  https://globalnightlight.s3.amazonaws.com/npp_202005/SVDNB_npp_d20200502_t0606305_e0612109_b44107_c20200502101212281822_noac_ops.rade9.co.json   \n",
       "366112  https://globalnightlight.s3.amazonaws.com/npp_202005/SVDNB_npp_d20200502_t0743145_e0748549_b44108_c20200502114856562241_noac_ops.rade9.co.json   \n",
       "366113  https://globalnightlight.s3.amazonaws.com/npp_202005/SVDNB_npp_d20200502_t0748561_e0754365_b44108_c20200502115437436693_noac_ops.rade9.co.json   \n",
       "\n",
       "                                                                                     item_id  \\\n",
       "365984  SVDNB_npp_d20200501_t0624008_e0629412_b44093_c20200501102942807493_noac_ops.rade9.co   \n",
       "365993  SVDNB_npp_d20200501_t0806264_e0812068_b44094_c20200501121207969852_noac_ops.rade9.co   \n",
       "366104  SVDNB_npp_d20200502_t0606305_e0612109_b44107_c20200502101212281822_noac_ops.rade9.co   \n",
       "366112  SVDNB_npp_d20200502_t0743145_e0748549_b44108_c20200502114856562241_noac_ops.rade9.co   \n",
       "366113  SVDNB_npp_d20200502_t0748561_e0754365_b44108_c20200502115437436693_noac_ops.rade9.co   \n",
       "\n",
       "                                                                                                                                                 href  \\\n",
       "365984  https://globalnightlight.s3.amazonaws.com/npp_202005/SVDNB_npp_d20200501_t0624008_e0629412_b44093_c20200501102942807493_noac_ops.rade9.co.tif   \n",
       "365993  https://globalnightlight.s3.amazonaws.com/npp_202005/SVDNB_npp_d20200501_t0806264_e0812068_b44094_c20200501121207969852_noac_ops.rade9.co.tif   \n",
       "366104  https://globalnightlight.s3.amazonaws.com/npp_202005/SVDNB_npp_d20200502_t0606305_e0612109_b44107_c20200502101212281822_noac_ops.rade9.co.tif   \n",
       "366112  https://globalnightlight.s3.amazonaws.com/npp_202005/SVDNB_npp_d20200502_t0743145_e0748549_b44108_c20200502114856562241_noac_ops.rade9.co.tif   \n",
       "366113  https://globalnightlight.s3.amazonaws.com/npp_202005/SVDNB_npp_d20200502_t0748561_e0754365_b44108_c20200502115437436693_noac_ops.rade9.co.tif   \n",
       "\n",
       "                                                                          bbox  \\\n",
       "365984         [-90.002083335, 1.002063334999999, -56.002056135, 26.002083335]   \n",
       "365993       [-116.002083335, -1.997936665000001, -82.002056135, 23.002083335]   \n",
       "366104        [-86.002083335, -3.997936665000001, -53.002056935, 21.002083335]   \n",
       "366112  [-108.002083335, 12.002063335000003, -72.00205453499998, 37.002083335]   \n",
       "366113       [-112.002083335, -6.997936665000001, -79.002056935, 18.002083335]   \n",
       "\n",
       "                                                                                                                 geometry  \\\n",
       "365984        POLYGON ((-90.00208 1.00206, -90.00208 26.00208, -56.00206 26.00208, -56.00206 1.00206, -90.00208 1.00206))   \n",
       "365993  POLYGON ((-116.00208 -1.99794, -116.00208 23.00208, -82.00206 23.00208, -82.00206 -1.99794, -116.00208 -1.99794))   \n",
       "366104     POLYGON ((-86.00208 -3.99794, -86.00208 21.00208, -53.00206 21.00208, -53.00206 -3.99794, -86.00208 -3.99794))   \n",
       "366112  POLYGON ((-108.00208 12.00206, -108.00208 37.00208, -72.00205 37.00208, -72.00205 12.00206, -108.00208 12.00206))   \n",
       "366113  POLYGON ((-112.00208 -6.99794, -112.00208 18.00208, -79.00206 18.00208, -79.00206 -6.99794, -112.00208 -6.99794))   \n",
       "\n",
       "             date                  datetime       ym        minx       miny  \\\n",
       "365984 2020-05-01 2020-05-01 06:24:00+00:00  2020-05  -90.002083   1.002063   \n",
       "365993 2020-05-01 2020-05-01 08:06:26+00:00  2020-05 -116.002083  -1.997937   \n",
       "366104 2020-05-02 2020-05-02 06:06:30+00:00  2020-05  -86.002083  -3.997937   \n",
       "366112 2020-05-02 2020-05-02 07:43:14+00:00  2020-05 -108.002083  12.002063   \n",
       "366113 2020-05-02 2020-05-02 07:48:56+00:00  2020-05 -112.002083  -6.997937   \n",
       "\n",
       "             maxx       maxy  \n",
       "365984 -56.002056  26.002083  \n",
       "365993 -82.002056  23.002083  \n",
       "366104 -53.002057  21.002083  \n",
       "366112 -72.002055  37.002083  \n",
       "366113 -79.002057  18.002083  "
      ]
     },
     "execution_count": 18,
     "metadata": {},
     "output_type": "execute_result"
    }
   ],
   "source": [
    "cat_aoi_filter.scenes.head()"
   ]
  }
 ],
 "metadata": {
  "kernelspec": {
   "display_name": "Python (Pacific)",
   "language": "python",
   "name": "pacific"
  },
  "language_info": {
   "codemirror_mode": {
    "name": "ipython",
    "version": 3
   },
   "file_extension": ".py",
   "mimetype": "text/x-python",
   "name": "python",
   "nbconvert_exporter": "python",
   "pygments_lexer": "ipython3",
   "version": "3.9.7"
  }
 },
 "nbformat": 4,
 "nbformat_minor": 5
}
